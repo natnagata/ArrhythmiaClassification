{
 "cells": [
  {
   "cell_type": "code",
   "execution_count": 1,
   "metadata": {
    "executionInfo": {
     "elapsed": 7741,
     "status": "ok",
     "timestamp": 1607561261173,
     "user": {
      "displayName": "Natalia Nagata",
      "photoUrl": "",
      "userId": "04053100690247594213"
     },
     "user_tz": 180
    },
    "id": "pNVWAHNtp93M"
   },
   "outputs": [
    {
     "name": "stdout",
     "output_type": "stream",
     "text": [
      "importing Jupyter notebook from SeparacaoAAMI.ipynb\n"
     ]
    }
   ],
   "source": [
    "import os\n",
    "os.environ['PYTHONHASHSEED'] = '0'\n",
    "\n",
    "# Biblioteca para identificar os sinais, os indices dos complexos QRS e\n",
    "# as anotacoes nos bancos de dados do MIT\n",
    "import wfdb\n",
    "from wfdb import processing\n",
    "\n",
    "import math\n",
    "import pywt\n",
    "import pandas as pd\n",
    "import numpy as np\n",
    "from numpy import *\n",
    "from numpy import load\n",
    "import scipy.io as sio\n",
    "import numpy.matlib \n",
    "import matplotlib.pyplot as plt\n",
    "import tensorflow as tf\n",
    "from tensorflow import keras\n",
    "from tensorflow.keras import layers\n",
    "from scipy import signal\n",
    "from os import listdir\n",
    "from numpy.linalg import inv,pinv\n",
    "from numpy.linalg import eig\n",
    "\n",
    "from sklearn.metrics import roc_auc_score, accuracy_score, precision_score, recall_score\n",
    "from sklearn.metrics import confusion_matrix\n",
    "from sklearn.metrics import classification_report\n",
    "from sklearn.discriminant_analysis import LinearDiscriminantAnalysis\n",
    "from sklearn.ensemble import VotingClassifier\n",
    "from scipy.interpolate import interp1d\n",
    "from sklearn import covariance\n",
    "from sklearn.utils import class_weight\n",
    "\n",
    "import datetime\n",
    "import json\n",
    "import seaborn as sn\n",
    "import pandas as pd\n",
    "\n",
    "# Importacao do arquivo contendo funcoes de pre-processamento,\n",
    "# segmentacao e divisao do banco de dados\n",
    "import import_ipynb\n",
    "from SeparacaoAAMI import *\n",
    "\n",
    "# Fixando as seeds\n",
    "import random\n",
    "random.seed(21)\n",
    "np.random.seed(21)\n",
    "seed_value = 3016\n",
    "tf.random.set_seed(seed_value)\n",
    "session_conf = tf.compat.v1.ConfigProto(intra_op_parallelism_threads=1, inter_op_parallelism_threads=1)\n",
    "sess = tf.compat.v1.Session(graph=tf.compat.v1.get_default_graph(), config=session_conf)\n",
    "tf.compat.v1.keras.backend.set_session(sess)\n",
    "    \n",
    "# %matplotlib inline"
   ]
  },
  {
   "cell_type": "markdown",
   "metadata": {},
   "source": [
    "# Divisão dos dados e Pré-Processamento"
   ]
  },
  {
   "cell_type": "code",
   "execution_count": 2,
   "metadata": {
    "executionInfo": {
     "elapsed": 7740,
     "status": "ok",
     "timestamp": 1607561261174,
     "user": {
      "displayName": "Natalia Nagata",
      "photoUrl": "",
      "userId": "04053100690247594213"
     },
     "user_tz": 180
    },
    "id": "YW29MKHuqD0V"
   },
   "outputs": [],
   "source": [
    "fs = 360 # Freq. de amostragem do sinal\n",
    "pasta = 'mit-bih-arrhythmia-database-1.0.0/'\n",
    "\n",
    "# Divisao seguindo Chazal et al. (2004)\n",
    "DS1 = ['101', '106', '108', '109', '112', '114', '115', '116', '118', '119', '122', '124', '201', '203', '205', '207', '208', '209', '215', '220', '223', '230']\n",
    "DS2 = ['100', '103', '105', '111', '113', '117', '121', '123', '200', '202', '210', '212', '213', '214', '219', '221', '222', '228', '231', '232', '233', '234']\n",
    "\n",
    "# Divisao dos dados nas classes da AAMI\n",
    "N = ['N', 'L', 'R', 'e', 'j']\n",
    "S = ['A', 'a', 'J', 'S']\n",
    "V = ['V', 'E']\n",
    "F = ['F']\n",
    "Q = ['/', 'f', 'Q']\n",
    "nonbeat = ['[', ']', '!', 'x', '|', '~', '+', '\"'] #nao pertencem a nenhuma das classes\n",
    "\n",
    "# Importacao das localizacoes dos complexos QRS corrigidas, ou seja,\n",
    "# das localizacoes seguindo as anotacoes, dados os simbolos que foram\n",
    "# identificados pelo ecg-kit (MATLAB)\n",
    "\n",
    "with open('simbolos_versaofinal.json', 'r') as json_file:\n",
    "    simbolos = json.load(json_file)"
   ]
  },
  {
   "cell_type": "code",
   "execution_count": 3,
   "metadata": {
    "executionInfo": {
     "elapsed": 68236,
     "status": "ok",
     "timestamp": 1607561321672,
     "user": {
      "displayName": "Natalia Nagata",
      "photoUrl": "",
      "userId": "04053100690247594213"
     },
     "user_tz": 180
    },
    "id": "FYgNkLjDMH8A"
   },
   "outputs": [],
   "source": [
    "periodo = 320 # numero aproximado de amostras em um batimento \n",
    "\n",
    "# Modo de entrada para obter tanto as 960 amostras do sinal quanto as\n",
    "# caracteristicas extraidas seguindo Chazal\n",
    "modo = 'MI' \n",
    "\n",
    "# Sem normalizacao do sinal\n",
    "norm = False\n",
    "\n",
    "# Mother-wavelet e nivel de decomposicao\n",
    "wavFunc = 'db2'\n",
    "level = 4\n",
    "\n",
    "# Numero de classes do problema e numero de blocos LSTM (se for uma rede RNN)\n",
    "numclass = 4\n",
    "blocosLSTM = 3\n",
    "\n",
    "# Probabilidades marginais da LDA\n",
    "pi = np.repeat(1/numclass, numclass)\n",
    "\n",
    "# Divisao dos pacientes em dados de treinamento e dados de teste\n",
    "# da primeira derivacao (indice 0) e da segunda derivacao (indice 1).\n",
    "# X_train0_all corresponde a todo o numero de dados disponivel da\n",
    "# primeira derivacao para o treinamento. X_train0_all_chazal corresponde\n",
    "# a todo o numero de dados disponivel das caracteristicas extraidas,\n",
    "# seguindo Chazal, da primeira derivacao para o treinamento. \n",
    "# Y_train_int_all representa as classes verdadeiras dos dados, em inteiros \n",
    "# (k = 0 corresponde a classe N, k = 1 corresponde a classe S...).\n",
    "# Sym_train contem os simbolos dos batimentos de treinamento e\n",
    "# Patient_train contem os pacientes em que eles ocorrem.\n",
    "\n",
    "X_train0_all, X_train1_all, X_train0_all_chazal, X_train1_all_chazal, Y_train_int_all, Sym_train, Patient_train = dataset(pasta, DS1, periodo, fs, simbolos, modo, norm, wavFunc, level, 'NSVF', blocosLSTM)\n",
    "X_test0_all, X_test1_all, X_test0_all_chazal, X_test1_all_chazal, Y_test_int_all, Sym_test, Patient_test = dataset(pasta, DS2, periodo, fs, simbolos, modo, norm, wavFunc, level, 'NSVF', blocosLSTM)"
   ]
  },
  {
   "cell_type": "code",
   "execution_count": 4,
   "metadata": {
    "executionInfo": {
     "elapsed": 68236,
     "status": "ok",
     "timestamp": 1607561321672,
     "user": {
      "displayName": "Natalia Nagata",
      "photoUrl": "",
      "userId": "04053100690247594213"
     },
     "user_tz": 180
    },
    "id": "FYgNkLjDMH8A"
   },
   "outputs": [],
   "source": [
    "def eq_dataset(df, DS, numclass):\n",
    "    # Funcao para selecionar aleatoriamente, mas respeitando\n",
    "    # a divisao dos pacientes, os dados de cada classe de modo \n",
    "    # a equilibrar a quantidade de exemplos em cada. Nao corresponde\n",
    "    # a uma boa selecao de entrada no cenario realista, pois reduz muito o numero\n",
    "    # de dados disponiveis, sendo usada somente para testes e para \n",
    "    # verificar problemas que nao sao associados ao desbalanceamento.\n",
    "    # Foi feita de modo que nenhum paciente fosse excluido e que batimentos\n",
    "    # selecionados de um mesmo paciente nao fossem consecutivos.\n",
    "    # Retorna o indice dos dados selecionados.\n",
    "    num = 372\n",
    "    num_pat = len(DS) # numero de pacientes\n",
    "    ind_eq = []\n",
    "    for i in DS:\n",
    "        for j in range(numclass):\n",
    "            ind = df.index[(df['Y'] == j) & (df['Paciente'] == i)].tolist()\n",
    "            if (size(ind) > 0) and isin(j, [3]):\n",
    "                ind_eq = np.concatenate([ind_eq, ind])\n",
    "            elif (size(ind) > 0) and isin(j, [0]):\n",
    "                ind_eq = np.concatenate([ind_eq, random.sample(ind, int(np.floor(num/(num_pat))))])\n",
    "            elif (size(ind) > 0) and (isin(j, [2])) and (size(ind) > 8*int(np.floor(num/num_pat))):\n",
    "                ind_eq = np.concatenate([ind_eq, random.sample(ind, int(np.floor(num/(num_pat*1.4))))])\n",
    "            elif (size(ind) > 0) and (size(ind) > 12*int(np.floor(num/num_pat))):\n",
    "                ind_eq = np.concatenate([ind_eq, random.sample(ind, int(np.floor(num/(num_pat*1.1))))])\n",
    "            elif (size(ind) > 0):\n",
    "                ind_eq = np.concatenate([ind_eq, ind])\n",
    "    return ind_eq\n",
    "\n",
    "def dim_N_dataset(df, DS, numclass):\n",
    "    # Funcao para selecionar os dados usando todos os exemplos das classes\n",
    "    # S, V, F e Q, e diminuindo o numero de dados da classe N.\n",
    "    # Foi feita de modo que nenhum paciente fosse excluido e que batimentos\n",
    "    # selecionados de um mesmo paciente nao fossem consecutivos.\n",
    "    # Retorna o indice dos dados selecionados.\n",
    "    num = 8500\n",
    "    num_pat = len(DS) # numero de pacientes\n",
    "    ind_eq = []\n",
    "    for i in DS:\n",
    "        for j in range(numclass):\n",
    "            ind = df.index[(df['Y'] == j) & (df['Paciente'] == i)].tolist()\n",
    "            if (size(ind) > 0) and isin(j, [0]) and (size(ind) > 1.5*int(np.floor(num/num_pat))):\n",
    "                ind_eq = np.concatenate([ind_eq, random.sample(ind, int(np.floor(num/(num_pat))))])\n",
    "            elif (size(ind) > 0):\n",
    "                ind_eq = np.concatenate([ind_eq, ind])\n",
    "    return ind_eq\n",
    "\n",
    "\n",
    "#################### Quantidade de dados utilizados ######################\n",
    "########## Todos as classes com aproximadamente o mesmo numero ###########\n",
    "# df_train = pd.DataFrame({'Paciente': Patient_train, 'Y': Y_train_int_all.flatten().astype('int32')})\n",
    "# df_test = pd.DataFrame({'Paciente': Patient_test, 'Y': Y_test_int_all.flatten().astype('int32')})\n",
    "# ind_train = [int(i) for i in eq_dataset(df_train, DS1, 4)]\n",
    "# ind_test = [int(i) for i in eq_dataset(df_test, DS2, 4)]\n",
    "# X_train0, X_train1, Y_train_int = take_ind(ind_train, X_train0_all, X_train1_all, Y_train_int_all)\n",
    "# X_test0, X_test1, Y_test_int = take_ind(ind_test, X_test0_all, X_test1_all, Y_test_int_all)\n",
    "\n",
    "###################### Todos os dados disponiveis ####################\n",
    "# X_train0, X_train1, Y_train_int = X_train0_all, X_train1_all, Y_train_int_all\n",
    "# X_test0, X_test1, Y_test_int = X_test0_all, X_test1_all, Y_test_int_all\n",
    "\n",
    "###### Diminuicao dos dados de N e todos os dados disponiveis das outras ########\n",
    "df_train = pd.DataFrame({'Paciente': Patient_train, 'Y': Y_train_int_all.flatten().astype('int32')})\n",
    "df_test = pd.DataFrame({'Paciente': Patient_test, 'Y': Y_test_int_all.flatten().astype('int32')})\n",
    "ind_train = [int(i) for i in dim_N_dataset(df_train, DS1, 4)]\n",
    "ind_test = [int(i) for i in dim_N_dataset(df_test, DS2, 4)]\n",
    "X_train0, X_train1, Y_train_int = take_ind(ind_train, X_train0_all, X_train1_all, Y_train_int_all)\n",
    "X_test0, X_test1, Y_test_int = take_ind(ind_test, X_test0_all, X_test1_all, Y_test_int_all)\n",
    "X_train0_chazal, X_train1_chazal, Y_train_int = take_ind(ind_train, X_train0_all_chazal, X_train1_all_chazal, Y_train_int_all)\n",
    "X_test0_chazal, X_test1_chazal, Y_test_int = take_ind(ind_test, X_test0_all_chazal, X_test1_all_chazal, Y_test_int_all)\n"
   ]
  },
  {
   "cell_type": "code",
   "execution_count": 5,
   "metadata": {
    "colab": {
     "base_uri": "https://localhost:8080/",
     "height": 1000
    },
    "executionInfo": {
     "elapsed": 69648,
     "status": "ok",
     "timestamp": 1607561323119,
     "user": {
      "displayName": "Natalia Nagata",
      "photoUrl": "",
      "userId": "04053100690247594213"
     },
     "user_tz": 180
    },
    "id": "a3LrMS2r5KIY",
    "outputId": "92f789eb-16fc-423c-baaa-89621b71e006",
    "scrolled": false
   },
   "outputs": [
    {
     "data": {
      "image/png": "[encoded data removed]",
      "text/plain": [
       "<Figure size 432x288 with 1 Axes>"
      ]
     },
     "metadata": {
      "needs_background": "light"
     },
     "output_type": "display_data"
    },
    {
     "data": {
      "image/png": "[encoded data removed]",
      "text/plain": [
       "<Figure size 432x288 with 1 Axes>"
      ]
     },
     "metadata": {
      "needs_background": "light"
     },
     "output_type": "display_data"
    },
    {
     "data": {
      "image/png": "[encoded data removed]",
      "text/plain": [
       "<Figure size 432x288 with 1 Axes>"
      ]
     },
     "metadata": {
      "needs_background": "light"
     },
     "output_type": "display_data"
    }
   ],
   "source": [
    "# Plot dos sinais de cada classe\n",
    "id1 = np.where(Y_train_int == 0)[0][0]\n",
    "id2 = np.where(Y_train_int == 1)[0][1]\n",
    "id3 = np.where(Y_train_int == 2)[0][0]\n",
    "id4 = np.where(Y_train_int == 3)[0][0]\n",
    "# id5 = np.where(Y_train_int == 4)[0][0]\n",
    "plt.rcParams.update({'font.size': 10})\n",
    "# Plot das 3 classes. Plot das 5 classes poderia ser feito com funcao 'plotECG()'\n",
    "plotECG_NSV(False, X_train0, id1, id2, id3)"
   ]
  },
  {
   "cell_type": "code",
   "execution_count": 6,
   "metadata": {},
   "outputs": [
    {
     "name": "stdout",
     "output_type": "stream",
     "text": [
      "{0: 4, 1: 41, 2: 13, 3: 77}\n"
     ]
    }
   ],
   "source": [
    "# Obtencao dos pesos das classes\n",
    "Y_train_flat = Y_train_int.flatten()\n",
    "pesos = class_weight.compute_class_weight(class_weight = 'balanced', classes=np.unique(Y_train_flat),  y=Y_train_flat)\n",
    "pesos = pesos*10\n",
    "pesos = list(map(math.ceil,pesos))\n",
    "pesos = {i: pesos[i] for i in range(np.size(pesos))}\n",
    "print(pesos)\n",
    "\n",
    "# Codificacao 1 entre m (Classe N, por exemplo, é [1,0,0,0,0])\n",
    "Y_train = onehot(X_train0, Y_train_int, numclass)\n",
    "Y_test = onehot(X_test0, Y_test_int, numclass)\n",
    "\n",
    "# Concatenacao com split para usar dados de teste como validacao e evitar perda de exemplos\n",
    "split = X_test0.shape[0]/(X_test0.shape[0] + X_train0.shape[0])\n",
    "all_X0 = np.concatenate((X_train0, X_test0), axis = 0)\n",
    "all_X1 = np.concatenate((X_train1, X_test1), axis = 0)\n",
    "all_label = np.concatenate((Y_train, Y_test), axis = 0)"
   ]
  },
  {
   "cell_type": "markdown",
   "metadata": {},
   "source": [
    "# Classificadores"
   ]
  },
  {
   "cell_type": "markdown",
   "metadata": {},
   "source": [
    "## MLP"
   ]
  },
  {
   "cell_type": "code",
   "execution_count": 7,
   "metadata": {},
   "outputs": [
    {
     "name": "stdout",
     "output_type": "stream",
     "text": [
      "-------------------------Treino------------------------\n",
      "[[8461   23    7    1]\n",
      " [   0  753    0    0]\n",
      " [   1    0 2536    0]\n",
      " [   0    0    0  396]]\n",
      "              precision    recall  f1-score   support\n",
      "\n",
      "         0.0     0.9999    0.9963    0.9981      8492\n",
      "         1.0     0.9704    1.0000    0.9850       753\n",
      "         2.0     0.9972    0.9996    0.9984      2537\n",
      "         3.0     0.9975    1.0000    0.9987       396\n",
      "\n",
      "    accuracy                         0.9974     12178\n",
      "   macro avg     0.9912    0.9990    0.9951     12178\n",
      "weighted avg     0.9974    0.9974    0.9974     12178\n",
      "\n",
      "-------------------------Teste------------------------\n",
      "[[6887  517  626  329]\n",
      " [ 485  755   54   25]\n",
      " [ 182   10 1669  173]\n",
      " [ 209   29  123   15]]\n",
      "              precision    recall  f1-score   support\n",
      "\n",
      "         0.0     0.8872    0.8239    0.8544      8359\n",
      "         1.0     0.5759    0.5724    0.5741      1319\n",
      "         2.0     0.6752    0.8206    0.7408      2034\n",
      "         3.0     0.0277    0.0399    0.0327       376\n",
      "\n",
      "    accuracy                         0.7715     12088\n",
      "   macro avg     0.5415    0.5642    0.5505     12088\n",
      "weighted avg     0.7908    0.7715    0.7791     12088\n",
      "\n"
     ]
    },
    {
     "data": {
      "image/png": "[encoded data removed]",
      "text/plain": [
       "<Figure size 720x504 with 2 Axes>"
      ]
     },
     "metadata": {
      "needs_background": "light"
     },
     "output_type": "display_data"
    }
   ],
   "source": [
    "# Fixar novamente a seed!\n",
    "tf.random.set_seed(seed_value)\n",
    "session_conf = tf.compat.v1.ConfigProto(intra_op_parallelism_threads=1, inter_op_parallelism_threads=1)\n",
    "sess = tf.compat.v1.Session(graph=tf.compat.v1.get_default_graph(), config=session_conf)\n",
    "tf.compat.v1.keras.backend.set_session(sess)\n",
    "\n",
    "# Hiperparametros e Algoritmo de otimizacao\n",
    "nepochs = 250\n",
    "adam = tf.keras.optimizers.Adam(learning_rate= 0.001, beta_1=0.9, beta_2=0.99, epsilon=1e-07)\n",
    "initializer = tf.keras.initializers.GlorotUniform()\n",
    "\n",
    "# Identificacao do modelo no summary e nas metricas impressas no csv\n",
    "key = str(datetime.datetime.now())\n",
    "\n",
    "# Estrutura da rede\n",
    "model0 = tf.keras.Sequential()\n",
    "model0.add(layers.Dense(32, activation = 'relu', input_shape = (all_X0.shape[1],), kernel_initializer=initializer))\n",
    "model0.add(layers.Dense(16, activation = 'relu'))\n",
    "model0.add(layers.Dense(numclass, activation = 'softmax'))\n",
    "\n",
    "# Treinamento da rede\n",
    "model0.compile(loss = 'categorical_crossentropy', optimizer = adam, metrics = ['accuracy', tf.keras.metrics.Recall()])\n",
    "history0 = model0.fit(all_X0, all_label, batch_size=2048, shuffle=True, epochs=nepochs, validation_split=split, verbose = False, class_weight = pesos) #validationsplit pega os ultimos dados de all_X antes do shuffle\n",
    "\n",
    "# Teste da rede\n",
    "Y_train_preds0_MLP = model0.predict(X_train0, verbose = 0)\n",
    "Y_test_preds0_MLP = model0.predict(X_test0, verbose = 0)\n",
    "M0 = resultados(Y_train_int, np.argmax(Y_train_preds0_MLP, axis = 1), Y_test_int, np.argmax(Y_test_preds0_MLP, axis = 1), numclass)\n",
    "metricasNSVF(M0, True, r'resultados_rnn_mlp.csv', 'MLP', str(modo), str(periodo), str([32, 16, numclass]) + ' - drop: [0 0]', nepochs, key)\n",
    "\n",
    "# Salvando o summary do modelo\n",
    "with open(r'summ_rnn_mlp.txt','a') as f:\n",
    "    print(key, file=f)\n",
    "model0.summary(print_fn=printsum)\n",
    "\n",
    "# Limpando a memoria\n",
    "tf.keras.backend.clear_session()"
   ]
  },
  {
   "cell_type": "code",
   "execution_count": 8,
   "metadata": {},
   "outputs": [
    {
     "name": "stdout",
     "output_type": "stream",
     "text": [
      "Model: \"sequential\"\n",
      "_________________________________________________________________\n",
      "Layer (type)                 Output Shape              Param #   \n",
      "=================================================================\n",
      "dense (Dense)                (None, 32)                30752     \n",
      "_________________________________________________________________\n",
      "dense_1 (Dense)              (None, 16)                528       \n",
      "_________________________________________________________________\n",
      "dense_2 (Dense)              (None, 4)                 68        \n",
      "=================================================================\n",
      "Total params: 31,348\n",
      "Trainable params: 31,348\n",
      "Non-trainable params: 0\n",
      "_________________________________________________________________\n"
     ]
    }
   ],
   "source": [
    "model0.summary()"
   ]
  },
  {
   "cell_type": "markdown",
   "metadata": {},
   "source": [
    "## RNN"
   ]
  },
  {
   "cell_type": "code",
   "execution_count": 9,
   "metadata": {
    "colab": {
     "base_uri": "https://localhost:8080/"
    },
    "executionInfo": {
     "elapsed": 1316416,
     "status": "ok",
     "timestamp": 1607562569906,
     "user": {
      "displayName": "Natalia Nagata",
      "photoUrl": "",
      "userId": "04053100690247594213"
     },
     "user_tz": 180
    },
    "id": "tTR1x6ctlWMU",
    "outputId": "87caf9ec-eb99-4bb2-81f1-8003e75db384"
   },
   "outputs": [
    {
     "name": "stdout",
     "output_type": "stream",
     "text": [
      "-------------------------Treino------------------------\n",
      "[[8389   95    0    8]\n",
      " [   0  753    0    0]\n",
      " [   0    1 2535    1]\n",
      " [   0    0    0  396]]\n",
      "              precision    recall  f1-score   support\n",
      "\n",
      "         0.0     1.0000    0.9879    0.9939      8492\n",
      "         1.0     0.8869    1.0000    0.9401       753\n",
      "         2.0     1.0000    0.9992    0.9996      2537\n",
      "         3.0     0.9778    1.0000    0.9888       396\n",
      "\n",
      "    accuracy                         0.9914     12178\n",
      "   macro avg     0.9662    0.9968    0.9806     12178\n",
      "weighted avg     0.9923    0.9914    0.9916     12178\n",
      "\n",
      "-------------------------Teste------------------------\n",
      "[[6632  777  616  334]\n",
      " [ 560  731   24    4]\n",
      " [ 370   19 1577   68]\n",
      " [ 294    7   18   57]]\n",
      "              precision    recall  f1-score   support\n",
      "\n",
      "         0.0     0.8442    0.7934    0.8180      8359\n",
      "         1.0     0.4765    0.5542    0.5124      1319\n",
      "         2.0     0.7056    0.7753    0.7388      2034\n",
      "         3.0     0.1231    0.1516    0.1359       376\n",
      "\n",
      "    accuracy                         0.7443     12088\n",
      "   macro avg     0.5374    0.5686    0.5513     12088\n",
      "weighted avg     0.7583    0.7443    0.7501     12088\n",
      "\n"
     ]
    },
    {
     "data": {
      "image/png": "[encoded data removed]",
      "text/plain": [
       "<Figure size 720x504 with 2 Axes>"
      ]
     },
     "metadata": {
      "needs_background": "light"
     },
     "output_type": "display_data"
    }
   ],
   "source": [
    "# Fixar novamente a seed!\n",
    "random.seed(21)\n",
    "np.random.seed(21)\n",
    "seed_value= 3016\n",
    "tf.random.set_seed(seed_value)\n",
    "session_conf = tf.compat.v1.ConfigProto(intra_op_parallelism_threads=1, inter_op_parallelism_threads=1)\n",
    "sess = tf.compat.v1.Session(graph=tf.compat.v1.get_default_graph(), config=session_conf)\n",
    "tf.compat.v1.keras.backend.set_session(sess)\n",
    "\n",
    "# Mudanca no tamanho dos vetores para um LSTM de 320 amostras de entrada e 3 passos de tempo \n",
    "X_train_RNN0 = np.reshape(X_train0, (X_train0.shape[0], blocosLSTM, X_train0.shape[1]//blocosLSTM))\n",
    "X_test_RNN0 = np.reshape(X_test0, (X_test0.shape[0], blocosLSTM, X_test0.shape[1]//blocosLSTM))\n",
    "X_train_RNN1 = np.reshape(X_train1, (X_train1.shape[0], blocosLSTM, X_train1.shape[1]//blocosLSTM))\n",
    "X_test_RNN1 = np.reshape(X_test1, (X_test1.shape[0], blocosLSTM, X_test1.shape[1]//blocosLSTM))\n",
    "\n",
    "# Concatenacao com split para usar dados de teste como validacao e evitar perda de exemplos\n",
    "all_X0 = np.concatenate((X_train_RNN0, X_test_RNN0), axis = 0)\n",
    "all_X1 = np.concatenate((X_train_RNN1, X_test_RNN1), axis = 0)\n",
    "all_label = np.concatenate((Y_train, Y_test), axis = 0)\n",
    "\n",
    "# Hiperparametros e Algoritmo de otimizacao\n",
    "nepochs = 100\n",
    "nunits = 72\n",
    "adam = tf.keras.optimizers.Adam(learning_rate= 0.001, beta_1=0.9, beta_2=0.99, epsilon=1e-07)\n",
    "initializer = tf.keras.initializers.GlorotUniform()\n",
    "ort_initializer = tf.keras.initializers.Orthogonal()\n",
    "\n",
    "# Identificacao do modelo no summary e nas metricas impressas no csv\n",
    "key = str(datetime.datetime.now())\n",
    "\n",
    "# Estrutura da rede\n",
    "model0 = keras.Sequential()\n",
    "model0.add(layers.LSTM(nunits, input_shape=(blocosLSTM, all_X0.shape[2]), return_sequences =False, dropout=0, recurrent_dropout=0.0, kernel_initializer=initializer, recurrent_initializer=ort_initializer))\n",
    "model0.add(layers.Dense(numclass,activation='softmax'))\n",
    "\n",
    "# Treinamento da rede\n",
    "model0.compile(loss = 'categorical_crossentropy', optimizer = adam, metrics = ['accuracy', tf.keras.metrics.Recall()])\n",
    "history = model0.fit(all_X0, all_label, shuffle=False, epochs=nepochs, validation_split=split, verbose = False, class_weight=pesos) \n",
    "#validationsplit utiliza os ultimos dados de all_X\n",
    "\n",
    "# Teste da rede\n",
    "Y_train_preds_rnn = model0.predict(X_train_RNN0, verbose = 0)\n",
    "Y_test_preds_rnn = model0.predict(X_test_RNN0, verbose = 0)\n",
    "M0 = resultados(Y_train_int, np.argmax(Y_train_preds_rnn, axis = 1), Y_test_int, np.argmax(Y_test_preds_rnn, axis = 1), numclass)\n",
    "metricasNSVF(M0, True, r'resultados_rnn_lda.csv', 'LSTM_modelo0', str(modo), str(periodo), str([nunits, numclass]) + ' - drop: [0 0]', nepochs, key)\n",
    "# tf.keras.utils.plot_model(model0, to_file=key+'.png')\n",
    "\n",
    "# Salvando o summary do modelo\n",
    "with open(r'summ_rnn_lda.txt','a') as f:\n",
    "    print(key, file=f)\n",
    "model0.summary(print_fn=printsum)\n",
    "\n",
    "# Limpando a memoria\n",
    "tf.keras.backend.clear_session()"
   ]
  },
  {
   "cell_type": "code",
   "execution_count": 10,
   "metadata": {},
   "outputs": [
    {
     "name": "stdout",
     "output_type": "stream",
     "text": [
      "Model: \"sequential\"\n",
      "_________________________________________________________________\n",
      "Layer (type)                 Output Shape              Param #   \n",
      "=================================================================\n",
      "lstm (LSTM)                  (None, 72)                113184    \n",
      "_________________________________________________________________\n",
      "dense (Dense)                (None, 4)                 292       \n",
      "=================================================================\n",
      "Total params: 113,476\n",
      "Trainable params: 113,476\n",
      "Non-trainable params: 0\n",
      "_________________________________________________________________\n"
     ]
    }
   ],
   "source": [
    "model0.summary()"
   ]
  },
  {
   "cell_type": "markdown",
   "metadata": {},
   "source": [
    "## Combinação dos classificadores"
   ]
  },
  {
   "cell_type": "code",
   "execution_count": 11,
   "metadata": {
    "colab": {
     "base_uri": "https://localhost:8080/"
    },
    "executionInfo": {
     "elapsed": 1316416,
     "status": "ok",
     "timestamp": 1607562569906,
     "user": {
      "displayName": "Natalia Nagata",
      "photoUrl": "",
      "userId": "04053100690247594213"
     },
     "user_tz": 180
    },
    "id": "tTR1x6ctlWMU",
    "outputId": "87caf9ec-eb99-4bb2-81f1-8003e75db384",
    "scrolled": false
   },
   "outputs": [
    {
     "name": "stdout",
     "output_type": "stream",
     "text": [
      "-------------------------Treino------------------------\n",
      "[[8469   23    0    0]\n",
      " [   0  753    0    0]\n",
      " [   0    0 2537    0]\n",
      " [   0    0    0  396]]\n",
      "              precision    recall  f1-score   support\n",
      "\n",
      "         0.0     1.0000    0.9973    0.9986      8492\n",
      "         1.0     0.9704    1.0000    0.9850       753\n",
      "         2.0     1.0000    1.0000    1.0000      2537\n",
      "         3.0     1.0000    1.0000    1.0000       396\n",
      "\n",
      "    accuracy                         0.9981     12178\n",
      "   macro avg     0.9926    0.9993    0.9959     12178\n",
      "weighted avg     0.9982    0.9981    0.9981     12178\n",
      "\n",
      "-------------------------Teste------------------------\n",
      "[[7049  528  594  188]\n",
      " [ 537  749   25    8]\n",
      " [ 235    7 1707   85]\n",
      " [ 275   15   69   17]]\n",
      "              precision    recall  f1-score   support\n",
      "\n",
      "         0.0     0.8707    0.8433    0.8568      8359\n",
      "         1.0     0.5766    0.5679    0.5722      1319\n",
      "         2.0     0.7127    0.8392    0.7708      2034\n",
      "         3.0     0.0570    0.0452    0.0504       376\n",
      "\n",
      "    accuracy                         0.7877     12088\n",
      "   macro avg     0.5543    0.5739    0.5626     12088\n",
      "weighted avg     0.7867    0.7877    0.7862     12088\n",
      "\n"
     ]
    },
    {
     "data": {
      "image/png": "[encoded data removed]",
      "text/plain": [
       "<Figure size 720x504 with 2 Axes>"
      ]
     },
     "metadata": {
      "needs_background": "light"
     },
     "output_type": "display_data"
    }
   ],
   "source": [
    "######### Resultados finais da combinacao da MLP com a RNN ########\n",
    "M = resultados(Y_train_int, np.argmax(combiner2(Y_train_preds_rnn, Y_train_preds0_MLP), axis=1), Y_test_int,  np.argmax(combiner2(Y_test_preds_rnn, Y_test_preds0_MLP), axis=1), numclass)\n",
    "metricasNSVF(M, True, r'resultados_rnn_mlp.csv', 'LSTM0_MLP0_combinado', str(modo), str(periodo), 'RNN'+str([nunits, numclass]) + ' - drop: [0 0]' + 'MLP'+str([32, 16, 4]), nepochs, key)"
   ]
  }
 ],
 "metadata": {
  "colab": {
   "authorship_tag": "ABX9TyOltu5mJ0wXzAO0MHlkOKhD",
   "collapsed_sections": [],
   "name": "ModeloAAMIChazal.ipynb",
   "provenance": []
  },
  "kernelspec": {
   "display_name": "Python 3",
   "language": "python",
   "name": "python3"
  },
  "language_info": {
   "codemirror_mode": {
    "name": "ipython",
    "version": 3
   },
   "file_extension": ".py",
   "mimetype": "text/x-python",
   "name": "python",
   "nbconvert_exporter": "python",
   "pygments_lexer": "ipython3",
   "version": "3.7.9"
  }
 },
 "nbformat": 4,
 "nbformat_minor": 1
}
